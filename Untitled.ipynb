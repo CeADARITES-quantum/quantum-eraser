{
 "cells": [
  {
   "cell_type": "code",
   "execution_count": 1,
   "metadata": {},
   "outputs": [],
   "source": [
    "import pickle\n",
    "# filename = 'measurement_circ_1_inder.pk'\n",
    "# with open(file_name, 'wb') as file:\n",
    "#     pickle.dump(measurement, file)"
   ]
  },
  {
   "cell_type": "code",
   "execution_count": 30,
   "metadata": {},
   "outputs": [],
   "source": [
    "measurements = pickle.load(open ('measurement_circ_2_inder.pk','rb'))"
   ]
  },
  {
   "cell_type": "code",
   "execution_count": 31,
   "metadata": {},
   "outputs": [
    {
     "data": {
      "text/plain": [
       "[{'00': 3, '01': 2, '10': 11, '11': 4, 'phi': 2.5446900494077322},\n",
       " {'00': 8, '01': 3, '10': 8, '11': 1, 'phi': 0.43982297150257105},\n",
       " {'00': 9, '01': 2, '10': 7, '11': 2, 'phi': 0.09424777960769379},\n",
       " {'00': 4, '01': 2, '10': 11, '11': 3, 'phi': 2.9530970943744057},\n",
       " {'00': 8, '01': 2, '10': 5, '11': 5, 'phi': 1.0995574287564276},\n",
       " {'00': 6, '01': 3, '10': 8, '11': 3, 'phi': 0.9738937226128358},\n",
       " {'00': 6, '01': 1, '10': 9, '11': 4, 'phi': 0.8796459430051421},\n",
       " {'00': 9, '01': 1, '10': 7, '11': 3, 'phi': 0.5340707511102649},\n",
       " {'00': 9, '01': 5, '10': 4, '11': 2, 'phi': 0.4084070449666731},\n",
       " {'00': 7, '01': 2, '10': 7, '11': 4, 'phi': 2.701769682087222},\n",
       " {'00': 6, '01': 4, '10': 7, '11': 3, 'phi': 2.1676989309769574},\n",
       " {'00': 7, '01': 1, '10': 5, '11': 7, 'phi': 0.34557519189487723},\n",
       " {'00': 6, '01': 1, '10': 8, '11': 5, 'phi': 2.356194490192345},\n",
       " {'00': 10, '01': 2, '10': 4, '11': 4, 'phi': 1.6964600329384882},\n",
       " {'00': 7, '01': 4, '10': 6, '11': 3, 'phi': 0.12566370614359174},\n",
       " {'00': 8, '01': 5, '10': 3, '11': 4, 'phi': 0.8482300164692441},\n",
       " {'00': 7, '01': 1, '10': 6, '11': 6, 'phi': 0.9110618695410401},\n",
       " {'00': 5, '01': 4, '10': 6, '11': 5, 'phi': 2.0106192982974678},\n",
       " {'00': 7, '01': 1, '10': 9, '11': 3, 'phi': 2.419026343264141},\n",
       " {'00': 7, '01': 3, '10': 6, '11': 4, 'phi': 2.2305307840487534}]"
      ]
     },
     "execution_count": 31,
     "metadata": {},
     "output_type": "execute_result"
    }
   ],
   "source": [
    "measurements"
   ]
  },
  {
   "cell_type": "code",
   "execution_count": 33,
   "metadata": {
    "scrolled": true
   },
   "outputs": [
    {
     "data": {
      "image/png": "[encoded data removed]",
      "text/plain": [
       "<Figure size 432x288 with 1 Axes>"
      ]
     },
     "metadata": {
      "needs_background": "light"
     },
     "output_type": "display_data"
    }
   ],
   "source": [
    "import numpy as np\n",
    "import matplotlib.pyplot as plt\n",
    "\n",
    "measurements = pickle.load(open ('measurement_circ_3_inder.pk','rb'))\n",
    "meas_00 = np.array([])\n",
    "meas_01 = np.array([])\n",
    "meas_10 = np.array([])\n",
    "meas_11 = np.array([])\n",
    "phi = np.array([])\n",
    "for measurement in measurements:\n",
    "    if '00' not in measurement.keys():\n",
    "        meas_00 = np.append(meas_00, 0)\n",
    "    else:\n",
    "        meas_00 = np.append(meas_00, measurement['00'])\n",
    "    if '01' not in measurement.keys():\n",
    "        meas_01= np.append(meas_01, 0)\n",
    "    else:\n",
    "        meas_01= np.append(meas_01, measurement['01'])\n",
    "    if '10' not in measurement.keys():\n",
    "        meas_10= np.append(meas_10, 0)\n",
    "    else:\n",
    "        meas_10= np.append(meas_10, measurement['10'])\n",
    "    if '11' not in measurement.keys():\n",
    "        meas_11= np.append(meas_11, 0)\n",
    "    else:\n",
    "        meas_11= np.append(meas_11, measurement['11'])\n",
    "    phi = np.append(phi, measurement['phi'])\n",
    "    \n",
    "ax = plt.subplot(111)\n",
    "ax.bar(phi-0.02, meas_00/20.0, width=0.01, color='b', align='center', label='00')\n",
    "ax.bar(phi+0.02, meas_11/20.0, width=0.01, color='r', align='center', label='11')\n",
    "ax.bar(phi-0.01, meas_01/20.0, width=0.01, color='g', align='center', label='01')\n",
    "ax.bar(phi+0.01, meas_10/20.0, width=0.01, color='y', align='center', label='10')\n",
    "ax.legend()\n",
    "ax.set_xlabel('phi')\n",
    "plt.show();"
   ]
  }
 ],
 "metadata": {
  "kernelspec": {
   "display_name": "Python 3",
   "language": "python",
   "name": "python3"
  },
  "language_info": {
   "codemirror_mode": {
    "name": "ipython",
    "version": 3
   },
   "file_extension": ".py",
   "mimetype": "text/x-python",
   "name": "python",
   "nbconvert_exporter": "python",
   "pygments_lexer": "ipython3",
   "version": "3.7.4"
  }
 },
 "nbformat": 4,
 "nbformat_minor": 2
}
