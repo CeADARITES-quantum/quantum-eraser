{
 "cells": [
  {
   "cell_type": "code",
   "execution_count": 2,
   "metadata": {
    "pycharm": {
     "name": "#%%\n"
    }
   },
   "outputs": [],
   "source": [
    "import qiskit\n",
    "import numpy as np\n",
    "import math\n",
    "import matplotlib.pyplot as plt\n",
    "import pickle\n",
    "\n",
    "from qiskit import QuantumRegister, ClassicalRegister, QuantumCircuit\n",
    "from numpy import pi\n",
    "\n",
    "from IPython.core.interactiveshell import InteractiveShell\n",
    "InteractiveShell.ast_node_interactivity = \"all\""
   ]
  },
  {
   "cell_type": "code",
   "execution_count": 2,
   "metadata": {
    "pycharm": {
     "name": "#%%\n"
    }
   },
   "outputs": [
    {
     "data": {
      "text/plain": [
       "'0.15.1'"
      ]
     },
     "execution_count": 2,
     "metadata": {},
     "output_type": "execute_result"
    }
   ],
   "source": [
    "qiskit.__version__"
   ]
  },
  {
   "cell_type": "code",
   "execution_count": 3,
   "metadata": {
    "pycharm": {
     "name": "#%%\n"
    }
   },
   "outputs": [
    {
     "data": {
      "text/plain": [
       "{'qiskit-terra': '0.15.1',\n",
       " 'qiskit-aer': '0.6.1',\n",
       " 'qiskit-ignis': '0.4.0',\n",
       " 'qiskit-ibmq-provider': '0.8.0',\n",
       " 'qiskit-aqua': '0.7.5',\n",
       " 'qiskit': '0.20.0'}"
      ]
     },
     "execution_count": 3,
     "metadata": {},
     "output_type": "execute_result"
    }
   ],
   "source": [
    "qiskit.__qiskit_version__"
   ]
  },
  {
   "cell_type": "code",
   "execution_count": 4,
   "metadata": {
    "pycharm": {
     "name": "#%%\n"
    }
   },
   "outputs": [
    {
     "name": "stderr",
     "output_type": "stream",
     "text": [
      "configrc.store_credentials:WARNING:2020-08-21 11:20:23,314: Credentials already present. Set overwrite=True to overwrite.\n"
     ]
    }
   ],
   "source": [
    "qiskit.IBMQ.save_account('96eb6fdc1c3d8661911c1cf9899e0335dfebbfcaddf93754252ac129d6cfa8a0fb0d5b33439c741cacffab22cda9c28a5adea3ec064cf9ff5919b329f48c89a1')"
   ]
  },
  {
   "cell_type": "markdown",
   "metadata": {},
   "source": [
    "# QUANTUM ERASER EXPERIMENT"
   ]
  },
  {
   "cell_type": "markdown",
   "metadata": {},
   "source": [
    "The quantum eraser is an experiment that invites to reflecting on the nature of entanglement. Its most straightforward interpretation would be that, thanks to quantum mechanics, the collapse produced by a measurement could be erased by the application of operators to an entangled element.\n",
    "\n",
    "Determining the path of a photon after a passing a double slit would supress the interference pattern. Since this knowledge or measurement is achieved through an entangled photon, one could assumed that there is instant communication between detectors. The truth is that in experimental realizations, a good study of the data must be done in order to filter noise and determine the correct timing of events."
   ]
  },
  {
   "cell_type": "markdown",
   "metadata": {},
   "source": [
    "## A CLASSICAL EXPERIMENT THAT EMULATES A QUANTUM ERASER"
   ]
  },
  {
   "cell_type": "markdown",
   "metadata": {},
   "source": [
    "The setup relies in the properties of light. If you have a laser, chances are that the emission will be linearly polarized. To emulate a superposition of states, a quarter-wave plate is used, so the light beam becomes circularly polarized (your state would be 1/Sqrt(2)( |L> + |R> ).\n",
    "\n",
    "Pointing this beam to a double slit will generate an interference pattern in a screen placed behind. Interference is ruled by phase difference between waves arriving to the same point.\n",
    "\n",
    "Now, if a polarizer was placed after each slit, and their axis were perpendicular, that would mean we know what path did each wave chose before arriving to the screen. This measurement destroys the interference pattern and a light spot is observed.\n",
    "\n",
    "Is it possible to erase this 'measurement'? If another polarizer is placed after the previous two, with its axis forming 45° to theirs (remember they were perpendicular to each other), the components surviving this polarizer would make the original slit indistinguishable, thus restoring the interference pattern."
   ]
  },
  {
   "cell_type": "markdown",
   "metadata": {},
   "source": [
    "## REPRODUCING THIS EXPERIMENT WITH QUANTUM CIRCUITS"
   ]
  },
  {
   "cell_type": "markdown",
   "metadata": {},
   "source": [
    "Let us build qiskit circuits that take the ideas from that previous experiment. Some theoretical computation will be included.\n",
    "\n",
    "Our light beam will be q_0. At some moment there will be some divergence because we have to rely on entanglement instead of having polarizers.\n",
    "\n",
    "The laser with linear polarization will be |0>. The quarter-wave plate, that changes the state to a different base, will be emulated by a Hadamard gate, which will deliver q_0 = |+> = (1/Sqrt(2))( |0> + |1> )."
   ]
  },
  {
   "cell_type": "code",
   "execution_count": 5,
   "metadata": {
    "pycharm": {
     "name": "#%%\n"
    }
   },
   "outputs": [
    {
     "name": "stdout",
     "output_type": "stream",
     "text": [
      "Theoretical state of q_0:\n",
      " [[0.70710678+0.j]\n",
      " [0.70710678+0.j]]\n"
     ]
    }
   ],
   "source": [
    "bra_0 = np.array([[1],[0]], dtype=np.complex_)\n",
    "H = (1/math.sqrt(2))*np.array([[1,1],[1,-1]])\n",
    "q_0 = H.dot(bra_0)\n",
    "np.set_printoptions(suppress=True)\n",
    "print('Theoretical state of q_0:\\n', q_0)"
   ]
  },
  {
   "cell_type": "code",
   "execution_count": 6,
   "metadata": {
    "pycharm": {
     "name": "#%%\n"
    }
   },
   "outputs": [
    {
     "name": "stdout",
     "output_type": "stream",
     "text": [
      "          ┌───┐\n",
      "q_0: ─|0>─┤ H ├\n",
      "          └───┘\n",
      "c: 1/══════════\n",
      "               \n",
      "State of q_0:  [0.70710678+0.j 0.70710678+0.j]\n"
     ]
    }
   ],
   "source": [
    "backend = qiskit.Aer.get_backend('statevector_simulator'); # Tell Qiskit how to simulate our circuit\n",
    "\n",
    "qreg_q = QuantumRegister(1, 'q')\n",
    "creg_c = ClassicalRegister(1, 'c')\n",
    "circuit = QuantumCircuit(qreg_q, creg_c)\n",
    "\n",
    "circuit.reset(qreg_q[0])\n",
    "circuit.h(qreg_q[0])\n",
    "state = qiskit.execute(circuit,backend).result().get_statevector(); # Execute the circuit\n",
    "circuit_1 = qiskit.visualization.circuit_drawer(circuit)\n",
    "print(circuit_1)\n",
    "print('State of q_0: ',state);           # Print the result"
   ]
  },
  {
   "cell_type": "markdown",
   "metadata": {},
   "source": [
    "The next step would be passing it through the double slit. As stated before, the interference originated from a double slit comes from the phase difference between waves crossing different paths. Here we apply an operator that gets the |+> we have and adds a phase within its components |0> and |1>. The appropriate operator to act in such a base is R_z(phi)."
   ]
  },
  {
   "cell_type": "code",
   "execution_count": 7,
   "metadata": {
    "pycharm": {
     "name": "#%%\n"
    }
   },
   "outputs": [
    {
     "name": "stdout",
     "output_type": "stream",
     "text": [
      "Theory\n",
      " Before applying the rotation: \n",
      " [[0.70710678+0.j]\n",
      " [0.70710678+0.j]] \n",
      "\n",
      "After applying a PI/2 rotation \n",
      " [[0.70710678+0.j        ]\n",
      " [0.        +0.70710678j]] \n",
      "\n",
      "After applying a PI rotation \n",
      " [[ 0.70710678+0.j]\n",
      " [-0.70710678+0.j]] \n",
      "\n",
      "After applying a PI/3 rotation \n",
      " [[0.70710678+0.j        ]\n",
      " [0.35355339+0.61237244j]]\n"
     ]
    }
   ],
   "source": [
    "print('Theory\\n','Before applying the rotation: \\n', q_0, '\\n')\n",
    "\n",
    "def Rz(phi):\n",
    "    return np.array([[1, 0],[0, math.e**(1j*phi)]], dtype=np.complex_)\n",
    "\n",
    "# We will try different phases\n",
    "q_0_a = Rz(np.pi/2).dot(q_0)\n",
    "print('After applying a PI/2 rotation \\n', q_0_a,'\\n')\n",
    "\n",
    "q_0_b = Rz(np.pi).dot(q_0)\n",
    "print('After applying a PI rotation \\n', q_0_b,'\\n')\n",
    "\n",
    "q_0_c = Rz(np.pi/3).dot(q_0)\n",
    "print('After applying a PI/3 rotation \\n', q_0_c,)"
   ]
  },
  {
   "cell_type": "code",
   "execution_count": 8,
   "metadata": {
    "pycharm": {
     "name": "#%%\n"
    }
   },
   "outputs": [
    {
     "name": "stdout",
     "output_type": "stream",
     "text": [
      "          ┌───┐┌──────────┐\n",
      "q_0: ─|0>─┤ H ├┤ RZ(pi/2) ├\n",
      "          └───┘└──────────┘\n",
      "c: 1/══════════════════════\n",
      "                           \n",
      "State of q_0:  [0.70710678+0.j         0.        +0.70710678j]\n",
      "          ┌───┐┌────────┐\n",
      "q_0: ─|0>─┤ H ├┤ RZ(pi) ├\n",
      "          └───┘└────────┘\n",
      "c: 1/════════════════════\n",
      "                         \n",
      "State of q_0:  [ 0.70710678+0.j -0.70710678+0.j]\n",
      "          ┌───┐┌──────────┐\n",
      "q_0: ─|0>─┤ H ├┤ RZ(pi/3) ├\n",
      "          └───┘└──────────┘\n",
      "c: 1/══════════════════════\n",
      "                           \n",
      "State of q_0:  [0.70710678+0.j         0.35355339+0.61237244j]\n"
     ]
    }
   ],
   "source": [
    "qreg_q = QuantumRegister(1, 'q')\n",
    "creg_c = ClassicalRegister(1, 'c')\n",
    "circuit = QuantumCircuit(qreg_q, creg_c)\n",
    "\n",
    "circuit.reset(qreg_q[0])\n",
    "circuit.h(qreg_q[0])\n",
    "circuit.rz(pi/2, qreg_q[0])\n",
    "\n",
    "state = qiskit.execute(circuit,backend).result().get_statevector(); # Execute the circuit\n",
    "circuit_1 = qiskit.visualization.circuit_drawer(circuit)\n",
    "print(circuit_1)\n",
    "print('State of q_0: ',state);           # Print the result\n",
    "\n",
    "circuit = QuantumCircuit(qreg_q, creg_c)\n",
    "\n",
    "circuit.reset(qreg_q[0])\n",
    "circuit.h(qreg_q[0])\n",
    "circuit.rz(pi, qreg_q[0])\n",
    "\n",
    "state = qiskit.execute(circuit,backend).result().get_statevector(); # Execute the circuit\n",
    "circuit_1 = qiskit.visualization.circuit_drawer(circuit)\n",
    "print(circuit_1)\n",
    "print('State of q_0: ',state);           # Print the result\n",
    "\n",
    "circuit = QuantumCircuit(qreg_q, creg_c)\n",
    "\n",
    "circuit.reset(qreg_q[0])\n",
    "circuit.h(qreg_q[0])\n",
    "circuit.rz(pi/3, qreg_q[0])\n",
    "\n",
    "state = qiskit.execute(circuit,backend).result().get_statevector(); # Execute the circuit\n",
    "circuit_1 = qiskit.visualization.circuit_drawer(circuit)\n",
    "print(circuit_1)\n",
    "print('State of q_0: ',state);           # Print the result"
   ]
  },
  {
   "cell_type": "markdown",
   "metadata": {},
   "source": [
    "We are ready now to create the interference. As the documentation suggests, this is represented by applying another Hadamard gate to our circuit. Let us recall that two H operators are just the identity."
   ]
  },
  {
   "cell_type": "code",
   "execution_count": 9,
   "metadata": {
    "pycharm": {
     "name": "#%%\n"
    }
   },
   "outputs": [
    {
     "name": "stdout",
     "output_type": "stream",
     "text": [
      "Theory\n",
      " Before interfering, the states of q_0 are: \n",
      " Pi/2 rotation\n",
      " [[0.70710678+0.j        ]\n",
      " [0.        +0.70710678j]] \n",
      "\n",
      " Pi rotation\n",
      " [[ 0.70710678+0.j]\n",
      " [-0.70710678+0.j]] \n",
      "\n",
      " Pi/3 rotation\n",
      " [[0.70710678+0.j        ]\n",
      " [0.35355339+0.61237244j]] \n",
      "\n",
      "The interference result will depend on phi, which would prove the pattern depending on the phase, that is why we show the three cases.\n",
      "\n",
      "After the H interference, the states of q_0 are: \n",
      "\n",
      " Pi/2 rotation\n",
      " [[0.5+0.5j]\n",
      " [0.5-0.5j]] \n",
      "\n",
      " Pi rotation\n",
      " [[0.+0.j]\n",
      " [1.-0.j]] \n",
      "\n",
      " Pi/3 rotation\n",
      " [[0.75+0.4330127j]\n",
      " [0.25-0.4330127j]]\n"
     ]
    }
   ],
   "source": [
    "print('Theory\\n','Before interfering, the states of q_0 are: \\n Pi/2 rotation\\n', q_0_a, '\\n\\n Pi rotation\\n', q_0_b, '\\n\\n Pi/3 rotation\\n',\n",
    "      q_0_c, '\\n\\nThe interference result will depend'\n",
    "      ' on phi, which would prove the pattern depending on the phase, that is why we show the three cases.')\n",
    "\n",
    "q_0_aa = H.dot(q_0_a)\n",
    "q_0_bb = H.dot(q_0_b)\n",
    "q_0_cc = H.dot(q_0_c)\n",
    "\n",
    "print('\\nAfter the H interference, the states of q_0 are: \\n\\n', 'Pi/2 rotation\\n', q_0_aa, '\\n\\n Pi rotation\\n', q_0_bb, '\\n\\n Pi/3 rotation\\n',\n",
    "      q_0_cc)"
   ]
  },
  {
   "cell_type": "markdown",
   "metadata": {},
   "source": [
    "Let us see if the quantum circuits prove these results:"
   ]
  },
  {
   "cell_type": "code",
   "execution_count": 10,
   "metadata": {
    "pycharm": {
     "name": "#%%\n"
    }
   },
   "outputs": [
    {
     "name": "stdout",
     "output_type": "stream",
     "text": [
      "          ┌───┐┌──────────┐┌───┐\n",
      "q_0: ─|0>─┤ H ├┤ RZ(pi/2) ├┤ H ├\n",
      "          └───┘└──────────┘└───┘\n",
      "c: 1/═══════════════════════════\n",
      "                                \n",
      "State of q_0:  [0.5+0.5j 0.5-0.5j]\n",
      "          ┌───┐┌────────┐┌───┐\n",
      "q_0: ─|0>─┤ H ├┤ RZ(pi) ├┤ H ├\n",
      "          └───┘└────────┘└───┘\n",
      "c: 1/═════════════════════════\n",
      "                              \n",
      "State of q_0:  [0.+0.j 1.-0.j]\n",
      "          ┌───┐┌──────────┐┌───┐\n",
      "q_0: ─|0>─┤ H ├┤ RZ(pi/3) ├┤ H ├\n",
      "          └───┘└──────────┘└───┘\n",
      "c: 1/═══════════════════════════\n",
      "                                \n",
      "State of q_0:  [0.75+0.4330127j 0.25-0.4330127j]\n"
     ]
    }
   ],
   "source": [
    "qreg_q = QuantumRegister(1, 'q')\n",
    "creg_c = ClassicalRegister(1, 'c')\n",
    "circuit = QuantumCircuit(qreg_q, creg_c)\n",
    "\n",
    "circuit.reset(qreg_q[0])\n",
    "circuit.h(qreg_q[0])\n",
    "circuit.rz(pi/2, qreg_q[0])\n",
    "circuit.h(qreg_q[0])\n",
    "\n",
    "state_a = qiskit.execute(circuit,backend).result().get_statevector(); # Execute the circuit\n",
    "circuit_1 = qiskit.visualization.circuit_drawer(circuit)\n",
    "print(circuit_1)\n",
    "print('State of q_0: ',state_a);           # Print the result\n",
    "\n",
    "circuit = QuantumCircuit(qreg_q, creg_c)\n",
    "\n",
    "circuit.reset(qreg_q[0])\n",
    "circuit.h(qreg_q[0])\n",
    "circuit.rz(pi, qreg_q[0])\n",
    "circuit.h(qreg_q[0])\n",
    "\n",
    "state_b = qiskit.execute(circuit,backend).result().get_statevector(); # Execute the circuit\n",
    "circuit_1 = qiskit.visualization.circuit_drawer(circuit)\n",
    "print(circuit_1)\n",
    "print('State of q_0: ',state_b);           # Print the result\n",
    "\n",
    "circuit = QuantumCircuit(qreg_q, creg_c)\n",
    "\n",
    "circuit.reset(qreg_q[0])\n",
    "circuit.h(qreg_q[0])\n",
    "circuit.rz(pi/3, qreg_q[0])\n",
    "circuit.h(qreg_q[0])\n",
    "\n",
    "state_c = qiskit.execute(circuit,backend).result().get_statevector(); # Execute the circuit\n",
    "circuit_1 = qiskit.visualization.circuit_drawer(circuit)\n",
    "print(circuit_1)\n",
    "print('State of q_0: ',state_c);           # Print the result"
   ]
  },
  {
   "cell_type": "markdown",
   "metadata": {},
   "source": [
    "And show the probabilities associated to measuring either |0> or |1>:"
   ]
  },
  {
   "cell_type": "code",
   "execution_count": 11,
   "metadata": {
    "pycharm": {
     "name": "#%%\n"
    }
   },
   "outputs": [
    {
     "name": "stdout",
     "output_type": "stream",
     "text": [
      "Probability of |0> when applying a Pi/2 rotation:  0.5000000000000001\n",
      "Probability of |1> when applying a Pi/2 rotation:  0.4999999999999999\n",
      "\n",
      "Probability of |0> when applying a Pi rotation:  6.430140440293182e-32\n",
      "Probability of |1> when applying a Pi rotation:  1.0\n",
      "\n",
      "Probability of |0> when applying a Pi/3 rotation:  0.7499999999999999\n",
      "Probability of |1> when applying a Pi/3 rotation:  0.2499999999999999\n"
     ]
    }
   ],
   "source": [
    "Prob_pi_half_0 = np.abs(np.array([1,0], dtype=np.complex_).dot(state_a))**2\n",
    "print('Probability of |0> when applying a Pi/2 rotation: ', Prob_pi_half_0)\n",
    "Prob_pi_half_1 = np.abs(np.array([0,1], dtype=np.complex_).dot(state_a))**2\n",
    "print('Probability of |1> when applying a Pi/2 rotation: ', Prob_pi_half_1)\n",
    "\n",
    "Prob_pi_0 = np.abs(np.array([1,0], dtype=np.complex_).dot(state_b))**2\n",
    "print('\\nProbability of |0> when applying a Pi rotation: ', Prob_pi_0)\n",
    "Prob_pi_1 = np.abs(np.array([0,1], dtype=np.complex_).dot(state_b))**2\n",
    "print('Probability of |1> when applying a Pi rotation: ', Prob_pi_1)\n",
    "\n",
    "Prob_pi_third_0 = np.abs(np.array([1,0], dtype=np.complex_).dot(state_c))**2\n",
    "print('\\nProbability of |0> when applying a Pi/3 rotation: ', Prob_pi_third_0)\n",
    "Prob_pi_third_1 = np.abs(np.array([0,1], dtype=np.complex_).dot(state_c))**2\n",
    "print('Probability of |1> when applying a Pi/3 rotation: ', Prob_pi_third_1)"
   ]
  },
  {
   "cell_type": "markdown",
   "metadata": {},
   "source": [
    "We can see that Prob_|0> = 1/2 (1 + cos(Phi)), the expected theoretical result.\n",
    "\n",
    "As a reminder, the laser setup can show the phase difference as a distance from the central axis (in the screen), showing an interference. Here we will have to simulate different phases and build a histogram to show the equivalent interference pattern, according to Phi."
   ]
  },
  {
   "cell_type": "markdown",
   "metadata": {},
   "source": [
    "### THE WAY TO KNOW WHICH SLIT WAS CHOSEN, THE ENTANGLEMENT"
   ]
  },
  {
   "cell_type": "markdown",
   "metadata": {},
   "source": [
    "The documentation shows that the way to build an entangled state with a second qubit is through the application of a CNOT gate. To achieve the maximum entanglement, the sequence should be H - CNOT, which defines a Bell state, thus entangling before the Rz(Phi) operator.\n",
    "\n",
    "However, we can see that, for our classical laser, the knowledge of the path came after the slit, where the polarizators were placed. Can we place our CNOT after the rotation? Let us study the commutator of these operators"
   ]
  },
  {
   "cell_type": "code",
   "execution_count": 12,
   "metadata": {
    "pycharm": {
     "name": "#%%\n"
    }
   },
   "outputs": [
    {
     "name": "stdout",
     "output_type": "stream",
     "text": [
      "We will use Pi/3 to avoid any cancellation\n",
      "\n",
      "CNOT =\n",
      " [[1 0 0 0]\n",
      " [0 0 0 1]\n",
      " [0 0 1 0]\n",
      " [0 1 0 0]]\n",
      "\n",
      "The rotation acts on q_0 but not in q_1, the qubit we are goint to entangle to it\n",
      "A kronecker product will be executed against the identity matrix, respecting the q_1 x q_0 notation\n",
      "\n",
      "Rz_4 = I x Rz =\n",
      " [[1. +0.j        0. +0.j        0. +0.j        0. +0.j       ]\n",
      " [0. +0.j        0.5+0.8660254j 0. +0.j        0. +0.j       ]\n",
      " [0. +0.j        0. +0.j        1. +0.j        0. +0.j       ]\n",
      " [0. +0.j        0. +0.j        0. +0.j        0.5+0.8660254j]]\n",
      "\n",
      "CNOT . Rz_4 =\n",
      " [[1. +0.j        0. +0.j        0. +0.j        0. +0.j       ]\n",
      " [0. +0.j        0. +0.j        0. +0.j        0.5+0.8660254j]\n",
      " [0. +0.j        0. +0.j        1. +0.j        0. +0.j       ]\n",
      " [0. +0.j        0.5+0.8660254j 0. +0.j        0. +0.j       ]]\n",
      "\n",
      "Rz_4 . CNOT =\n",
      " [[1. +0.j        0. +0.j        0. +0.j        0. +0.j       ]\n",
      " [0. +0.j        0. +0.j        0. +0.j        0.5+0.8660254j]\n",
      " [0. +0.j        0. +0.j        1. +0.j        0. +0.j       ]\n",
      " [0. +0.j        0.5+0.8660254j 0. +0.j        0. +0.j       ]]\n",
      "\n",
      "As we can see, the operators commute, so we will place the CNOT after the rotation, just to stick tothe laser experimental setup.\n"
     ]
    }
   ],
   "source": [
    "print('We will use Pi/3 to avoid any cancellation\\n')\n",
    "\n",
    "CNOT = np.array([[1, 0, 0, 0],[0, 0, 0, 1],[0, 0, 1, 0],[0, 1, 0, 0]])\n",
    "print('CNOT =\\n', CNOT)\n",
    "print('\\nThe rotation acts on q_0 but not in q_1, the qubit we are goint to entangle to it'\n",
    "      '\\nA kronecker product will be executed against the identity matrix, respecting the q_1 x q_0 notation')\n",
    "\n",
    "new_Rz = np.kron(np.array([[1, 0],[0, 1]]), Rz(np.pi/3))\n",
    "print('\\nRz_4 = I x Rz =\\n',new_Rz)\n",
    "\n",
    "print('\\nCNOT . Rz_4 =\\n', CNOT.dot(new_Rz))\n",
    "print('\\nRz_4 . CNOT =\\n', new_Rz.dot(CNOT))\n",
    "\n",
    "print('\\nAs we can see, the operators commute, so we will place the CNOT after the rotation, just to stick to'\n",
    "     'the laser experimental setup.')"
   ]
  },
  {
   "cell_type": "markdown",
   "metadata": {},
   "source": [
    "We proceed to include a q_1 = |0> qubit in the circuit. From now one, to simplify the book, we will stick to the rotation of Pi/3 in the theoretical study.\n",
    "\n",
    "We locate ourselves after the rotation and before the second H gate is applied. There are no changes in q_1 yet. The Kronecker product of q_1 x q_0 will be:"
   ]
  },
  {
   "cell_type": "code",
   "execution_count": 13,
   "metadata": {
    "pycharm": {
     "name": "#%%\n"
    }
   },
   "outputs": [
    {
     "name": "stdout",
     "output_type": "stream",
     "text": [
      "q_0 = \n",
      " [[0.70710678+0.j        ]\n",
      " [0.35355339+0.61237244j]]\n",
      "q_1 = \n",
      " [[1]\n",
      " [0]]\n",
      "Composed state q_1 x q_0 = \n",
      " [[0.70710678+0.j        ]\n",
      " [0.35355339+0.61237244j]\n",
      " [0.        +0.j        ]\n",
      " [0.        +0.j        ]]\n"
     ]
    }
   ],
   "source": [
    "q_1 = np.array([[1],[0]])\n",
    "print('q_0 = \\n', q_0_c)\n",
    "print('q_1 = \\n', q_1)\n",
    "\n",
    "q_1xq_0 = np.kron(q_1, q_0_c)\n",
    "\n",
    "print('Composed state q_1 x q_0 = \\n', q_1xq_0)"
   ]
  },
  {
   "cell_type": "markdown",
   "metadata": {},
   "source": [
    "Using qiskit circuit simulator:"
   ]
  },
  {
   "cell_type": "code",
   "execution_count": 14,
   "metadata": {
    "pycharm": {
     "name": "#%%\n"
    }
   },
   "outputs": [
    {
     "name": "stdout",
     "output_type": "stream",
     "text": [
      "          ┌───┐┌──────────┐\n",
      "q_0: ─|0>─┤ H ├┤ RZ(pi/3) ├\n",
      "          └───┘└──────────┘\n",
      "q_1: ──────────────────────\n",
      "                           \n",
      "c: 2/══════════════════════\n",
      "                           \n",
      "State of q_1 x q_0: \n",
      " [0.70710678+0.j         0.35355339+0.61237244j 0.        +0.j\n",
      " 0.        +0.j        ]\n"
     ]
    }
   ],
   "source": [
    "qreg_q = QuantumRegister(2, 'q')\n",
    "creg_c = ClassicalRegister(2, 'c')\n",
    "circuit = QuantumCircuit(qreg_q, creg_c)\n",
    "\n",
    "circuit.reset(qreg_q[0])\n",
    "circuit.h(qreg_q[0])\n",
    "circuit.rz(pi/3, qreg_q[0])\n",
    "\n",
    "\n",
    "state = qiskit.execute(circuit,backend).result().get_statevector(); # Execute the circuit\n",
    "circuit_1 = qiskit.visualization.circuit_drawer(circuit)\n",
    "print(circuit_1)\n",
    "print('State of q_1 x q_0: \\n',state);           # Print the result"
   ]
  },
  {
   "cell_type": "markdown",
   "metadata": {},
   "source": [
    "We are ready to place the CNOT after the rotation. Theoretically, this should deliver:"
   ]
  },
  {
   "cell_type": "code",
   "execution_count": 15,
   "metadata": {
    "pycharm": {
     "name": "#%%\n"
    }
   },
   "outputs": [
    {
     "name": "stdout",
     "output_type": "stream",
     "text": [
      "Entangled state: \n",
      " [[0.70710678+0.j        ]\n",
      " [0.        +0.j        ]\n",
      " [0.        +0.j        ]\n",
      " [0.35355339+0.61237244j]]\n"
     ]
    }
   ],
   "source": [
    "entangled_q1q0 = CNOT.dot(q_1xq_0)\n",
    "print('Entangled state: \\n', entangled_q1q0)"
   ]
  },
  {
   "cell_type": "markdown",
   "metadata": {},
   "source": [
    "And the qiskit circuit:"
   ]
  },
  {
   "cell_type": "code",
   "execution_count": 16,
   "metadata": {
    "pycharm": {
     "name": "#%%\n"
    }
   },
   "outputs": [
    {
     "name": "stdout",
     "output_type": "stream",
     "text": [
      "          ┌───┐┌──────────┐     \n",
      "q_0: ─|0>─┤ H ├┤ RZ(pi/3) ├──■──\n",
      "          └───┘└──────────┘┌─┴─┐\n",
      "q_1: ──────────────────────┤ X ├\n",
      "                           └───┘\n",
      "c: 2/═══════════════════════════\n",
      "                                \n",
      "Entangled state: \n",
      " [0.70710678+0.j         0.        +0.j         0.        +0.j\n",
      " 0.35355339+0.61237244j]\n"
     ]
    }
   ],
   "source": [
    "qreg_q = QuantumRegister(2, 'q')\n",
    "creg_c = ClassicalRegister(2, 'c')\n",
    "circuit = QuantumCircuit(qreg_q, creg_c)\n",
    "\n",
    "circuit.reset(qreg_q[0])\n",
    "circuit.h(qreg_q[0])\n",
    "circuit.rz(pi/3, qreg_q[0])\n",
    "circuit.cx(qreg_q[0], qreg_q[1])\n",
    "\n",
    "state = qiskit.execute(circuit,backend).result().get_statevector(); # Execute the circuit\n",
    "circuit_1 = qiskit.visualization.circuit_drawer(circuit)\n",
    "print(circuit_1)\n",
    "print('Entangled state: \\n',state);           # Print the result"
   ]
  },
  {
   "cell_type": "markdown",
   "metadata": {},
   "source": [
    "Now is the moment to see if, after getting knowledge from the entanglement, will have lost any phase influence in the output, destroying the interference pattern.\n",
    "\n",
    "Theoretically:"
   ]
  },
  {
   "cell_type": "code",
   "execution_count": 17,
   "metadata": {
    "pycharm": {
     "name": "#%%\n"
    }
   },
   "outputs": [
    {
     "name": "stdout",
     "output_type": "stream",
     "text": [
      "The H gate acts only on q_0, we have to do the Kronecker product with the identity again\n",
      "\n",
      "The new H matrix is:\n",
      " [[ 0.70710678  0.70710678  0.          0.        ]\n",
      " [ 0.70710678 -0.70710678  0.         -0.        ]\n",
      " [ 0.          0.          0.70710678  0.70710678]\n",
      " [ 0.         -0.          0.70710678 -0.70710678]]\n",
      "\n",
      " If we now apply it to the entangled state:\n",
      "\n",
      "The state we have after doing this is:\n",
      " [[ 0.5 +0.j       ]\n",
      " [ 0.5 +0.j       ]\n",
      " [ 0.25+0.4330127j]\n",
      " [-0.25-0.4330127j]]\n"
     ]
    }
   ],
   "source": [
    "print('The H gate acts only on q_0, we have to do the Kronecker product with the identity again')\n",
    "\n",
    "new_H = np.kron(np.array([[1, 0],[0, 1]]), H)\n",
    "print('\\nThe new H matrix is:\\n', new_H)\n",
    "\n",
    "print('\\n If we now apply it to the entangled state:\\n')\n",
    "interfered_entangled_q1q0 = new_H.dot(entangled_q1q0)\n",
    "print('The state we have after doing this is:\\n', interfered_entangled_q1q0)"
   ]
  },
  {
   "cell_type": "markdown",
   "metadata": {},
   "source": [
    "To obtain the probabilities of measuring |0> or |1> for q_0 first we have to understand how the base for composed states works:"
   ]
  },
  {
   "cell_type": "code",
   "execution_count": 18,
   "metadata": {
    "pycharm": {
     "name": "#%%\n"
    }
   },
   "outputs": [
    {
     "name": "stdout",
     "output_type": "stream",
     "text": [
      "|00> =\n",
      " [[1]\n",
      " [0]\n",
      " [0]\n",
      " [0]]\n",
      "\n",
      "|01> =\n",
      " [[0]\n",
      " [1]\n",
      " [0]\n",
      " [0]]\n",
      "\n",
      "|10> =\n",
      " [[0]\n",
      " [0]\n",
      " [1]\n",
      " [0]]\n",
      "\n",
      "|11> =\n",
      " [[0]\n",
      " [0]\n",
      " [0]\n",
      " [1]]\n"
     ]
    }
   ],
   "source": [
    "zero = np.array([[1],[0]])\n",
    "one = np.array([[0],[1]])\n",
    "\n",
    "z_z = np.kron(zero, zero)\n",
    "z_o = np.kron(zero, one)\n",
    "o_z = np.kron(one, zero)\n",
    "o_o = np.kron(one, one)\n",
    "\n",
    "print('|00> =\\n', z_z)\n",
    "print('\\n|01> =\\n', z_o)\n",
    "print('\\n|10> =\\n', o_z)\n",
    "print('\\n|11> =\\n', o_o)"
   ]
  },
  {
   "cell_type": "code",
   "execution_count": 19,
   "metadata": {
    "pycharm": {
     "name": "#%%\n"
    }
   },
   "outputs": [
    {
     "name": "stdout",
     "output_type": "stream",
     "text": [
      "\n",
      "Probability of |00> when applying a Pi/3 rotation and then entangle:  [[0.25]]\n",
      "\n",
      "Probability of |01> when applying a Pi/3 rotation and then entangle:  [[0.25]]\n",
      "\n",
      "Probability of |10> when applying a Pi/3 rotation and then entangle:  [[0.25]]\n",
      "\n",
      "Probability of |11> when applying a Pi/3 rotation and then entangle:  [[0.25]]\n"
     ]
    }
   ],
   "source": [
    "Prob_entangled_00 = np.abs(z_z.conjugate().transpose().dot(interfered_entangled_q1q0))**2\n",
    "Prob_entangled_01 = np.abs(z_o.conjugate().transpose().dot(interfered_entangled_q1q0))**2\n",
    "Prob_entangled_10 = np.abs(o_z.conjugate().transpose().dot(interfered_entangled_q1q0))**2\n",
    "Prob_entangled_11 = np.abs(o_o.conjugate().transpose().dot(interfered_entangled_q1q0))**2\n",
    "print('\\nProbability of |00> when applying a Pi/3 rotation and then entangle: ', Prob_entangled_00)\n",
    "print('\\nProbability of |01> when applying a Pi/3 rotation and then entangle: ', Prob_entangled_01)\n",
    "print('\\nProbability of |10> when applying a Pi/3 rotation and then entangle: ', Prob_entangled_10)\n",
    "print('\\nProbability of |11> when applying a Pi/3 rotation and then entangle: ', Prob_entangled_11)"
   ]
  },
  {
   "cell_type": "markdown",
   "metadata": {},
   "source": [
    "Yes, now we can measure 4 states, since we have two qubits. The merge the previous work with this, if we had a second qubit q_1 that had no relationship with q_0, initialized as q_1 = |0>, the previous probability measurents for Rz(Pi/3) would be |00> -> 0.75 and |01> -> 0.25, with the other two equal to 0, since no change is done to q_1\n",
    "\n",
    "Now, doing the same with qiskit circuit simulator:"
   ]
  },
  {
   "cell_type": "code",
   "execution_count": 20,
   "metadata": {
    "pycharm": {
     "name": "#%%\n"
    }
   },
   "outputs": [
    {
     "name": "stdout",
     "output_type": "stream",
     "text": [
      "          ┌───┐┌──────────┐     ┌───┐\n",
      "q_0: ─|0>─┤ H ├┤ RZ(pi/3) ├──■──┤ H ├\n",
      "          └───┘└──────────┘┌─┴─┐└───┘\n",
      "q_1: ──────────────────────┤ X ├─────\n",
      "                           └───┘     \n",
      "c: 2/════════════════════════════════\n",
      "                                     \n",
      "Entangled state after the interference: \n",
      " [ 0.5 +0.j         0.5 +0.j         0.25+0.4330127j -0.25-0.4330127j]\n"
     ]
    }
   ],
   "source": [
    "qreg_q = QuantumRegister(2, 'q')\n",
    "creg_c = ClassicalRegister(2, 'c')\n",
    "circuit = QuantumCircuit(qreg_q, creg_c)\n",
    "\n",
    "circuit.reset(qreg_q[0])\n",
    "circuit.h(qreg_q[0])\n",
    "circuit.rz(pi/3, qreg_q[0])\n",
    "circuit.cx(qreg_q[0], qreg_q[1])\n",
    "circuit.h(qreg_q[0])\n",
    "\n",
    "state = qiskit.execute(circuit,backend).result().get_statevector(); # Execute the circuit\n",
    "circuit_1 = qiskit.visualization.circuit_drawer(circuit)\n",
    "print(circuit_1)\n",
    "print('Entangled state after the interference: \\n',state);           # Print the result"
   ]
  },
  {
   "cell_type": "markdown",
   "metadata": {},
   "source": [
    "Which is the same that we obtained theoretically. Thus, the same probabilities arise."
   ]
  },
  {
   "cell_type": "markdown",
   "metadata": {},
   "source": [
    "### ERASING THE PATH KNOWLEDGE"
   ]
  },
  {
   "cell_type": "markdown",
   "metadata": {},
   "source": [
    "To sum up what we have until now, we have passed from an interference pattern that defined as Prob_|0> = 1/2 (1 + cos(Phi)) to, after entangling the q_0 with a second qubit, destroying this pattern. We exemplified this with a rotation of Pi/3, where Prob_|00> = 0.75 and Prob_|01> = 0.25 before the entanglement but this moved to Prob_|00> = 0.25 after entangling q_0 with q_1. This behavior is the same for any phase.\n",
    "\n",
    "We move on now to erasing this behavior. The laser experiment erased the polarizators influences by placing another one with an axis 45° to theirs. Since we assumed that our polarizators equivalent would be the entangled q_1, we must now act on it to produce some change.\n",
    "\n",
    "Let us recall that q_1 is defined with respect to q_0 as a consequence of the entanglement. But this is a two-way road. Can we transform q_1 as that 45° polarizator did so q_0 measurements will be affected by the Rz(Phi) rotation again? An obvious candidate to scramble with q_1 is the H gate.\n",
    "\n",
    "Theoretically:"
   ]
  },
  {
   "cell_type": "code",
   "execution_count": 21,
   "metadata": {
    "pycharm": {
     "name": "#%%\n"
    }
   },
   "outputs": [
    {
     "name": "stdout",
     "output_type": "stream",
     "text": [
      "The new Hadamard gate only acts on q_1, the Kronecker product will now be different,\n",
      "nothing is directly acting on q_0\n",
      "\n",
      "Our new H is:\n",
      " [[ 0.70710678  0.          0.70710678  0.        ]\n",
      " [ 0.          0.70710678  0.          0.70710678]\n",
      " [ 0.70710678  0.         -0.70710678 -0.        ]\n",
      " [ 0.          0.70710678 -0.         -0.70710678]]\n",
      "\n",
      "Letting this act on the entangled state we had at the end of the previous circuit:\n",
      "\n",
      "The state vector after the erasure is:\n",
      " [[0.53033009+0.30618622j]\n",
      " [0.1767767 -0.30618622j]\n",
      " [0.1767767 -0.30618622j]\n",
      " [0.53033009+0.30618622j]]\n"
     ]
    }
   ],
   "source": [
    "print('The new Hadamard gate only acts on q_1, the Kronecker product will now be different,\\nnothing is directly acting on q_0')\n",
    "\n",
    "new_H1 = np.kron(H,np.array([[1, 0],[0,1]]))\n",
    "print('\\nOur new H is:\\n', new_H1)\n",
    "\n",
    "print('\\nLetting this act on the entangled state we had at the end of the previous circuit:\\n')\n",
    "erased_state = new_H1.dot(interfered_entangled_q1q0)\n",
    "print('The state vector after the erasure is:\\n', erased_state)"
   ]
  },
  {
   "cell_type": "markdown",
   "metadata": {},
   "source": [
    "The probability of each measurement is now:"
   ]
  },
  {
   "cell_type": "code",
   "execution_count": 22,
   "metadata": {
    "pycharm": {
     "name": "#%%\n"
    }
   },
   "outputs": [
    {
     "name": "stdout",
     "output_type": "stream",
     "text": [
      "\n",
      "Probability of |00> after erasing:  [[0.375]]\n",
      "\n",
      "Probability of |01> after erasing:  [[0.125]]\n",
      "\n",
      "Probability of |10> after erasing:  [[0.125]]\n",
      "\n",
      "Probability of |11> after erasing:  [[0.375]]\n"
     ]
    }
   ],
   "source": [
    "Prob_erased_00 = np.abs(z_z.conjugate().transpose().dot(erased_state))**2\n",
    "Prob_erased_01 = np.abs(z_o.conjugate().transpose().dot(erased_state))**2\n",
    "Prob_erased_10 = np.abs(o_z.conjugate().transpose().dot(erased_state))**2\n",
    "Prob_erased_11 = np.abs(o_o.conjugate().transpose().dot(erased_state))**2\n",
    "print('\\nProbability of |00> after erasing: ', Prob_erased_00)\n",
    "print('\\nProbability of |01> after erasing: ', Prob_erased_01)\n",
    "print('\\nProbability of |10> after erasing: ', Prob_erased_10)\n",
    "print('\\nProbability of |11> after erasing: ', Prob_erased_11)"
   ]
  },
  {
   "cell_type": "markdown",
   "metadata": {},
   "source": [
    "Though this theoretical computation is only for Rz(Pi/3), the three rotations we previously saw will be done again in qiskit, as it is easy to implement."
   ]
  },
  {
   "cell_type": "code",
   "execution_count": 23,
   "metadata": {
    "pycharm": {
     "name": "#%%\n"
    }
   },
   "outputs": [
    {
     "name": "stdout",
     "output_type": "stream",
     "text": [
      "          ┌───┐┌──────────┐     ┌───┐\n",
      "q_0: ─|0>─┤ H ├┤ RZ(pi/2) ├──■──┤ H ├\n",
      "          └───┘└──────────┘┌─┴─┐├───┤\n",
      "q_1: ─|0>──────────────────┤ X ├┤ H ├\n",
      "                           └───┘└───┘\n",
      "c: 2/════════════════════════════════\n",
      "                                     \n",
      "State of q_1xq_0: \n",
      " [0.35355339+0.35355339j 0.35355339-0.35355339j 0.35355339-0.35355339j\n",
      " 0.35355339+0.35355339j]\n",
      "          ┌───┐┌────────┐     ┌───┐\n",
      "q_0: ─|0>─┤ H ├┤ RZ(pi) ├──■──┤ H ├\n",
      "          └───┘└────────┘┌─┴─┐├───┤\n",
      "q_1: ─|0>────────────────┤ X ├┤ H ├\n",
      "                         └───┘└───┘\n",
      "c: 2/══════════════════════════════\n",
      "                                   \n",
      "State of q_1xq_0: \n",
      " [ 0.        +0.j  0.70710678-0.j  0.70710678-0.j -0.        +0.j]\n",
      "          ┌───┐┌──────────┐     ┌───┐\n",
      "q_0: ─|0>─┤ H ├┤ RZ(pi/3) ├──■──┤ H ├\n",
      "          └───┘└──────────┘┌─┴─┐├───┤\n",
      "q_1: ─|0>──────────────────┤ X ├┤ H ├\n",
      "                           └───┘└───┘\n",
      "c: 2/════════════════════════════════\n",
      "                                     \n",
      "State of q_1xq_0: \n",
      " [0.53033009+0.30618622j 0.1767767 -0.30618622j 0.1767767 -0.30618622j\n",
      " 0.53033009+0.30618622j]\n"
     ]
    }
   ],
   "source": [
    "qreg_q = QuantumRegister(2, 'q')\n",
    "creg_c = ClassicalRegister(2, 'c')\n",
    "\n",
    "circuit = QuantumCircuit(qreg_q, creg_c)\n",
    "\n",
    "circuit.reset(qreg_q[0])\n",
    "circuit.reset(qreg_q[1])\n",
    "circuit.h(qreg_q[0])\n",
    "circuit.rz(pi/2, qreg_q[0])\n",
    "circuit.cx(qreg_q[0], qreg_q[1])\n",
    "circuit.h(qreg_q[0])\n",
    "circuit.h(qreg_q[1])\n",
    "\n",
    "state_a = qiskit.execute(circuit,backend).result().get_statevector(); # Execute the circuit\n",
    "circuit_1 = qiskit.visualization.circuit_drawer(circuit)\n",
    "print(circuit_1)\n",
    "print('State of q_1xq_0: \\n',state_a);           # Print the result\n",
    "\n",
    "circuit = QuantumCircuit(qreg_q, creg_c)\n",
    "\n",
    "circuit.reset(qreg_q[0])\n",
    "circuit.reset(qreg_q[1])\n",
    "circuit.h(qreg_q[0])\n",
    "circuit.rz(pi, qreg_q[0])\n",
    "circuit.cx(qreg_q[0], qreg_q[1])\n",
    "circuit.h(qreg_q[0])\n",
    "circuit.h(qreg_q[1])\n",
    "\n",
    "state_b = qiskit.execute(circuit,backend).result().get_statevector(); # Execute the circuit\n",
    "circuit_1 = qiskit.visualization.circuit_drawer(circuit)\n",
    "print(circuit_1)\n",
    "print('State of q_1xq_0: \\n',state_b);           # Print the result\n",
    "\n",
    "circuit = QuantumCircuit(qreg_q, creg_c)\n",
    "\n",
    "circuit.reset(qreg_q[0])\n",
    "circuit.reset(qreg_q[1])\n",
    "circuit.h(qreg_q[0])\n",
    "circuit.rz(pi/3, qreg_q[0])\n",
    "circuit.cx(qreg_q[0], qreg_q[1])\n",
    "circuit.h(qreg_q[0])\n",
    "circuit.h(qreg_q[1])\n",
    "\n",
    "state_c = qiskit.execute(circuit,backend).result().get_statevector(); # Execute the circuit\n",
    "circuit_1 = qiskit.visualization.circuit_drawer(circuit)\n",
    "print(circuit_1)\n",
    "print('State of q_1xq_0: \\n',state_c);           # Print the result"
   ]
  },
  {
   "cell_type": "markdown",
   "metadata": {},
   "source": [
    "Now let us check the probabilities associated to each state for the circuits:"
   ]
  },
  {
   "cell_type": "code",
   "execution_count": 24,
   "metadata": {
    "pycharm": {
     "name": "#%%\n"
    }
   },
   "outputs": [
    {
     "name": "stdout",
     "output_type": "stream",
     "text": [
      "For the first circuit:\n",
      "\n",
      "Probability of |00> after erasing:  [0.25]\n",
      "\n",
      "Probability of |01> after erasing:  [0.25]\n",
      "\n",
      "Probability of |10> after erasing:  [0.25]\n",
      "\n",
      "Probability of |11> after erasing:  [0.25]\n",
      "----------------------\n",
      "For the second circuit:\n",
      "\n",
      "Probability of |00> after erasing:  [0.]\n",
      "\n",
      "Probability of |01> after erasing:  [0.5]\n",
      "\n",
      "Probability of |10> after erasing:  [0.5]\n",
      "\n",
      "Probability of |11> after erasing:  [0.]\n",
      "----------------------\n",
      "For the third circuit:\n",
      "\n",
      "Probability of |00> after erasing:  [0.375]\n",
      "\n",
      "Probability of |01> after erasing:  [0.125]\n",
      "\n",
      "Probability of |10> after erasing:  [0.125]\n",
      "\n",
      "Probability of |11> after erasing:  [0.375]\n"
     ]
    }
   ],
   "source": [
    "print('For the first circuit:')\n",
    "Prob_erased_00 = np.abs(z_z.conjugate().transpose().dot(state_a))**2\n",
    "Prob_erased_01 = np.abs(z_o.conjugate().transpose().dot(state_a))**2\n",
    "Prob_erased_10 = np.abs(o_z.conjugate().transpose().dot(state_a))**2\n",
    "Prob_erased_11 = np.abs(o_o.conjugate().transpose().dot(state_a))**2\n",
    "print('\\nProbability of |00> after erasing: ', Prob_erased_00)\n",
    "print('\\nProbability of |01> after erasing: ', Prob_erased_01)\n",
    "print('\\nProbability of |10> after erasing: ', Prob_erased_10)\n",
    "print('\\nProbability of |11> after erasing: ', Prob_erased_11)\n",
    "\n",
    "print('----------------------\\nFor the second circuit:')\n",
    "Prob_erased_00 = np.abs(z_z.conjugate().transpose().dot(state_b))**2\n",
    "Prob_erased_01 = np.abs(z_o.conjugate().transpose().dot(state_b))**2\n",
    "Prob_erased_10 = np.abs(o_z.conjugate().transpose().dot(state_b))**2\n",
    "Prob_erased_11 = np.abs(o_o.conjugate().transpose().dot(state_b))**2\n",
    "print('\\nProbability of |00> after erasing: ', Prob_erased_00)\n",
    "print('\\nProbability of |01> after erasing: ', Prob_erased_01)\n",
    "print('\\nProbability of |10> after erasing: ', Prob_erased_10)\n",
    "print('\\nProbability of |11> after erasing: ', Prob_erased_11)\n",
    "\n",
    "print('----------------------\\nFor the third circuit:')\n",
    "Prob_erased_00 = np.abs(z_z.conjugate().transpose().dot(state_c))**2\n",
    "Prob_erased_01 = np.abs(z_o.conjugate().transpose().dot(state_c))**2\n",
    "Prob_erased_10 = np.abs(o_z.conjugate().transpose().dot(state_c))**2\n",
    "Prob_erased_11 = np.abs(o_o.conjugate().transpose().dot(state_c))**2\n",
    "print('\\nProbability of |00> after erasing: ', Prob_erased_00)\n",
    "print('\\nProbability of |01> after erasing: ', Prob_erased_01)\n",
    "print('\\nProbability of |10> after erasing: ', Prob_erased_10)\n",
    "print('\\nProbability of |11> after erasing: ', Prob_erased_11)"
   ]
  },
  {
   "cell_type": "markdown",
   "metadata": {},
   "source": [
    "Now, as it can be noted, the pattern game has changed. If, when we had a qubit, Prob_|0> = 1/2 (1 + cos(Phi)), now that we have two of them entangled, we can see that Prob_|00> = Prob_|11> = 1/4 (1 + cos(Phi))\n",
    "\n",
    "However, as we can clearly see, we went from a total loss of the phase information regarding the rotation to a recovery of the phase afterwards, what some would loosely claim 'taping into the past'.\n",
    "\n",
    "Another relevant subject would be the placement of the H gate in q_1. Taking into account that the qubits are entangled, is it relevant its location, before or after the interference H gate in q_0? For this, we study the commutation."
   ]
  },
  {
   "cell_type": "code",
   "execution_count": 25,
   "metadata": {
    "pycharm": {
     "name": "#%%\n"
    }
   },
   "outputs": [
    {
     "name": "stdout",
     "output_type": "stream",
     "text": [
      "H gate in q_0:\n",
      " [[ 0.70710678  0.70710678  0.          0.        ]\n",
      " [ 0.70710678 -0.70710678  0.         -0.        ]\n",
      " [ 0.          0.          0.70710678  0.70710678]\n",
      " [ 0.         -0.          0.70710678 -0.70710678]]\n",
      "\n",
      "H gate in q_1:\n",
      " [[ 0.70710678  0.          0.70710678  0.        ]\n",
      " [ 0.          0.70710678  0.          0.70710678]\n",
      " [ 0.70710678  0.         -0.70710678 -0.        ]\n",
      " [ 0.          0.70710678 -0.         -0.70710678]]\n",
      "\n",
      "H_0 . H_1\n",
      " [[ 0.5  0.5  0.5  0.5]\n",
      " [ 0.5 -0.5  0.5 -0.5]\n",
      " [ 0.5  0.5 -0.5 -0.5]\n",
      " [ 0.5 -0.5 -0.5  0.5]]\n",
      "\n",
      "H_1 . H_0\n",
      " [[ 0.5  0.5  0.5  0.5]\n",
      " [ 0.5 -0.5  0.5 -0.5]\n",
      " [ 0.5  0.5 -0.5 -0.5]\n",
      " [ 0.5 -0.5 -0.5  0.5]]\n"
     ]
    }
   ],
   "source": [
    "print('H gate in q_0:\\n', new_H)\n",
    "print('\\nH gate in q_1:\\n', new_H1)\n",
    "\n",
    "print('\\nH_0 . H_1\\n', new_H.dot(new_H1))\n",
    "print('\\nH_1 . H_0\\n', new_H1.dot(new_H))"
   ]
  },
  {
   "cell_type": "markdown",
   "metadata": {},
   "source": [
    "The operators commute and there is no difference in when applying each."
   ]
  },
  {
   "cell_type": "markdown",
   "metadata": {},
   "source": [
    "# IMPLEMENTATION IN A QUANTUM COMPUTER\n",
    "\n",
    "Now that we know that the theory is sound and qiskit can simulate circuits that are in agreement with it, it is the moment to get real counts and prove that this setting can actually be realized in a quantum computer."
   ]
  },
  {
   "cell_type": "code",
   "execution_count": 26,
   "metadata": {
    "pycharm": {
     "name": "#%%\n"
    }
   },
   "outputs": [
    {
     "name": "stderr",
     "output_type": "stream",
     "text": [
      "/home/mrx/code/quantum-eraser/venv/lib/python3.6/site-packages/qiskit/providers/ibmq/ibmqfactory.py:192: UserWarning: Timestamps in IBMQ backend properties, jobs, and job results are all now in local time instead of UTC.\n",
      "  warnings.warn('Timestamps in IBMQ backend properties, jobs, and job results '\n"
     ]
    },
    {
     "data": {
      "text/plain": [
       "<AccountProvider for IBMQ(hub='ibm-q', group='open', project='main')>"
      ]
     },
     "execution_count": 26,
     "metadata": {},
     "output_type": "execute_result"
    },
    {
     "data": {
      "application/vnd.jupyter.widget-view+json": {
       "model_id": "554323b4744e4e42aa5e9db1be988937",
       "version_major": 2,
       "version_minor": 0
      },
      "text/plain": [
       "VBox(children=(HTML(value=\"<h2 style ='color:#ffffff; background-color:#000000;padding-top: 1%; padding-bottom…"
      ]
     },
     "metadata": {},
     "output_type": "display_data"
    }
   ],
   "source": [
    "from qiskit import IBMQ\n",
    "import qiskit.tools.jupyter\n",
    "\n",
    "%matplotlib inline\n",
    "\n",
    "IBMQ.load_account()\n",
    "\n",
    "%qiskit_backend_overview"
   ]
  },
  {
   "cell_type": "code",
   "execution_count": 27,
   "metadata": {
    "pycharm": {
     "name": "#%%\n"
    }
   },
   "outputs": [
    {
     "data": {
      "application/vnd.jupyter.widget-view+json": {
       "model_id": "b5619e75526c4300959868cb39f393ca",
       "version_major": 2,
       "version_minor": 0
      },
      "text/plain": [
       "VBox(children=(HTML(value=\"<h1 style='color:#ffffff;background-color:#000000;padding-top: 1%;padding-bottom: 1…"
      ]
     },
     "metadata": {},
     "output_type": "display_data"
    },
    {
     "data": {
      "text/plain": [
       "<IBMQBackend('ibmq_london') from IBMQ(hub='ibm-q', group='open', project='main')>"
      ]
     },
     "execution_count": 27,
     "metadata": {},
     "output_type": "execute_result"
    }
   ],
   "source": [
    "provider = IBMQ.get_provider(hub='ibm-q')\n",
    "backend = provider.get_backend('ibmq_london')\n",
    "backend"
   ]
  },
  {
   "cell_type": "markdown",
   "metadata": {},
   "source": [
    "Let us do the interference circuit first"
   ]
  },
  {
   "cell_type": "code",
   "execution_count": 28,
   "metadata": {
    "pycharm": {
     "name": "#%%\n"
    }
   },
   "outputs": [],
   "source": [
    "import random as rd\n",
    "rd.seed(42)\n",
    "# We will always use the same set of phases\n",
    "phi = [pi * rand_numb / 100 for rand_numb in rd.sample(range(101), 2)]\n",
    "# phi = [pi/3, pi/4]"
   ]
  },
  {
   "cell_type": "code",
   "execution_count": 29,
   "metadata": {
    "pycharm": {
     "name": "#%%\n"
    }
   },
   "outputs": [],
   "source": [
    "%%capture\n",
    "qreg_q = QuantumRegister(2, 'q');\n",
    "creg_c = ClassicalRegister(2, 'c');\n",
    "\n",
    "# To create the interference pattern, we need a big amount of different phases.\n",
    "# Since the measurement depends on the cos(phi), we pull random numbers in the interval phi belongs to [0,Pi]\n",
    "measurements = []\n",
    "for i, phase in enumerate(phi):\n",
    "    circuit = QuantumCircuit(qreg_q, creg_c);\n",
    "\n",
    "    circuit.reset(qreg_q[0]);\n",
    "    circuit.h(qreg_q[0]);\n",
    "    circuit.rz(phase, qreg_q[0]);\n",
    "    circuit.h(qreg_q[0]);\n",
    "    circuit.measure(qreg_q[0], creg_c[0]);\n",
    "    if i==0: # We draw the circuit once\n",
    "        circuit_1 = qiskit.visualization.circuit_drawer(circuit);\n",
    "    execution = qiskit.execute(circuit, backend, shots=14);\n",
    "    data = dict(execution.result().get_counts());\n",
    "    data.update({'phi': phase});\n",
    "    measurements.append(data);"
   ]
  },
  {
   "cell_type": "code",
   "execution_count": 30,
   "metadata": {
    "pycharm": {
     "name": "#%%\n"
    }
   },
   "outputs": [
    {
     "name": "stdout",
     "output_type": "stream",
     "text": [
      "This is a circuit with one of the multiple phases we are implementing:\n",
      "\n",
      "          ┌───┐┌────────────┐┌───┐┌─┐\n",
      "q_0: ─|0>─┤ H ├┤ RZ(2.5447) ├┤ H ├┤M├\n",
      "          └───┘└────────────┘└───┘└╥┘\n",
      "q_1: ──────────────────────────────╫─\n",
      "                                   ║ \n",
      "c: 2/══════════════════════════════╩═\n",
      "                                   0 \n"
     ]
    }
   ],
   "source": [
    "print('This is a circuit with one of the multiple phases we are implementing:\\n')\n",
    "print(circuit_1)"
   ]
  },
  {
   "cell_type": "code",
   "execution_count": 31,
   "metadata": {
    "pycharm": {
     "name": "#%%\n"
    }
   },
   "outputs": [
    {
     "data": {
      "text/plain": [
       "[{'00': 4, '01': 10, 'phi': 2.5446900494077322},\n",
       " {'00': 14, 'phi': 0.43982297150257105}]"
      ]
     },
     "execution_count": 31,
     "metadata": {},
     "output_type": "execute_result"
    }
   ],
   "source": [
    "measurements"
   ]
  },
  {
   "cell_type": "code",
   "execution_count": 5,
   "metadata": {},
   "outputs": [
    {
     "data": {
      "image/png": "[encoded data removed]",
      "text/plain": [
       "<Figure size 432x288 with 1 Axes>"
      ]
     },
     "metadata": {
      "needs_background": "light"
     },
     "output_type": "display_data"
    }
   ],
   "source": [
    "measurements = pickle.load(open ('measurement_circ_1_inder.pk','rb'))\n",
    "meas_00 = np.array([])\n",
    "meas_01 = np.array([])\n",
    "phi = np.array([])\n",
    "for measurement in measurements:\n",
    "    if '00' not in measurement.keys():\n",
    "        meas_00 = np.append(meas_00, 0)\n",
    "    else:\n",
    "        meas_00 = np.append(meas_00, measurement['00'])\n",
    "    if '01' not in measurement.keys():\n",
    "        meas_01= np.append(meas_01, 0)\n",
    "    else:\n",
    "        meas_01= np.append(meas_01, measurement['01'])\n",
    "    phi = np.append(phi, measurement['phi'])\n",
    "    \n",
    "ax = plt.subplot(111)\n",
    "#Normalizing measurements to get probabilities\n",
    "ax.bar(phi-0.02, meas_00/20.0, width=0.02, color='b', align='center', label='00')\n",
    "ax.bar(phi+0.02, meas_01/20.0, width=0.02, color='g', align='center', label='01')\n",
    "ax.legend()\n",
    "ax.set_xlabel('phi')\n",
    "plt.show();"
   ]
  },
  {
   "cell_type": "markdown",
   "metadata": {},
   "source": [
    "Now we destroy the interference by entangling the qubits"
   ]
  },
  {
   "cell_type": "code",
   "execution_count": 33,
   "metadata": {
    "pycharm": {
     "name": "#%%\n"
    }
   },
   "outputs": [],
   "source": [
    "%%capture\n",
    "qreg_q = QuantumRegister(2, 'q');\n",
    "creg_c = ClassicalRegister(2, 'c');\n",
    "\n",
    "measurements = []\n",
    "for i, phase in enumerate(phi):\n",
    "    circuit = QuantumCircuit(qreg_q, creg_c);\n",
    "\n",
    "    circuit.reset(qreg_q[0]);\n",
    "    circuit.h(qreg_q[0]);\n",
    "    circuit.rz(phase, qreg_q[0]);\n",
    "    circuit.cx(qreg_q[0], qreg_q[1]);\n",
    "    circuit.h(qreg_q[0]);\n",
    "    circuit.measure(qreg_q[0], creg_c[0]);\n",
    "    circuit.measure(qreg_q[1], creg_c[1]);\n",
    "    if i==0: # We draw the circuit once\n",
    "        circuit_1 = qiskit.visualization.circuit_drawer(circuit);\n",
    "    execution = qiskit.execute(circuit, backend, shots=8);\n",
    "    data = dict(execution.result().get_counts());\n",
    "    data.update({'phi': phase});\n",
    "    measurements.append(data);"
   ]
  },
  {
   "cell_type": "code",
   "execution_count": 34,
   "metadata": {
    "pycharm": {
     "name": "#%%\n"
    }
   },
   "outputs": [
    {
     "name": "stdout",
     "output_type": "stream",
     "text": [
      "This is a circuit with one of the multiple phases we are implementing:\n",
      "\n",
      "          ┌───┐┌────────────┐     ┌───┐┌─┐\n",
      "q_0: ─|0>─┤ H ├┤ RZ(2.5447) ├──■──┤ H ├┤M├\n",
      "          └───┘└────────────┘┌─┴─┐└┬─┬┘└╥┘\n",
      "q_1: ────────────────────────┤ X ├─┤M├──╫─\n",
      "                             └───┘ └╥┘  ║ \n",
      "c: 2/═══════════════════════════════╩═══╩═\n",
      "                                    1   0 \n"
     ]
    }
   ],
   "source": [
    "print('This is a circuit with one of the multiple phases we are implementing:\\n')\n",
    "print(circuit_1)"
   ]
  },
  {
   "cell_type": "code",
   "execution_count": 35,
   "metadata": {
    "pycharm": {
     "name": "#%%\n"
    }
   },
   "outputs": [
    {
     "data": {
      "text/plain": [
       "[{'00': 1, '01': 1, '10': 3, '11': 3, 'phi': 2.5446900494077322},\n",
       " {'00': 2, '01': 1, '10': 3, '11': 2, 'phi': 0.43982297150257105}]"
      ]
     },
     "execution_count": 35,
     "metadata": {},
     "output_type": "execute_result"
    }
   ],
   "source": [
    "measurements"
   ]
  },
  {
   "cell_type": "code",
   "execution_count": 7,
   "metadata": {},
   "outputs": [
    {
     "data": {
      "image/png": "[encoded data removed]",
      "text/plain": [
       "<Figure size 432x288 with 1 Axes>"
      ]
     },
     "metadata": {
      "needs_background": "light"
     },
     "output_type": "display_data"
    }
   ],
   "source": [
    "measurements = pickle.load(open ('measurement_circ_2_inder.pk','rb'))\n",
    "meas_00 = np.array([])\n",
    "meas_01 = np.array([])\n",
    "meas_10 = np.array([])\n",
    "meas_11 = np.array([])\n",
    "phi = np.array([])\n",
    "for measurement in measurements:\n",
    "    if '00' not in measurement.keys():\n",
    "        meas_00 = np.append(meas_00, 0)\n",
    "    else:\n",
    "        meas_00 = np.append(meas_00, measurement['00'])\n",
    "    if '01' not in measurement.keys():\n",
    "        meas_01= np.append(meas_01, 0)\n",
    "    else:\n",
    "        meas_01= np.append(meas_01, measurement['01'])\n",
    "    if '10' not in measurement.keys():\n",
    "        meas_10= np.append(meas_10, 0)\n",
    "    else:\n",
    "        meas_10= np.append(meas_10, measurement['10'])\n",
    "    if '11' not in measurement.keys():\n",
    "        meas_11= np.append(meas_11, 0)\n",
    "    else:\n",
    "        meas_11= np.append(meas_11, measurement['11'])\n",
    "    phi = np.append(phi, measurement['phi'])\n",
    "    \n",
    "ax = plt.subplot(111)\n",
    "ax.bar(phi-0.02, meas_00/20.0, width=0.01, color='b', align='center', label='00')\n",
    "ax.bar(phi+0.02, meas_11/20.0, width=0.01, color='r', align='center', label='11')\n",
    "ax.bar(phi-0.01, meas_01/20.0, width=0.01, color='g', align='center', label='01')\n",
    "ax.bar(phi+0.01, meas_10/20.0, width=0.01, color='y', align='center', label='10')\n",
    "ax.legend()\n",
    "ax.set_xlabel('phi')\n",
    "plt.show();"
   ]
  },
  {
   "cell_type": "markdown",
   "metadata": {},
   "source": [
    "Now we place the H gate as quantum eraser\n",
    "\n",
    "Here is where things get tricky, and the reason why in the previous circuits there were measurements for both qubits. It is clear that to see the interference pattern of a double slit, we would need to do that measurement, thus why measuring q_1 is necessary.\n",
    "\n",
    "Why? Because in the previous circuit, for each shot, when we measure we are determining the projection of q_1 in the [|0>, |1>] basis, which is the same as saying we knew the slit.\n",
    "\n",
    "Now, after placing a H in the q_1, and measuring the system when it has moved to the [|+>,|->] base, that knowledge is lost. However, if we did not measure q_1, it would get the result for both possibilities, rendering a Prob_|0> = 1/4 (1 + cos(Phi)) + 1/4(1-cos(Phi)) = 1/2, thus adding the interference patterns of the possibilities given by q_1 into one indistinguishable spot."
   ]
  },
  {
   "cell_type": "code",
   "execution_count": 37,
   "metadata": {
    "pycharm": {
     "name": "#%%\n"
    }
   },
   "outputs": [],
   "source": [
    "%%capture\n",
    "\n",
    "qreg_q = QuantumRegister(2, 'q');\n",
    "creg_c = ClassicalRegister(2, 'c');\n",
    "\n",
    "measurements = []\n",
    "for i, phase in enumerate(phi):\n",
    "    circuit = QuantumCircuit(qreg_q, creg_c);\n",
    "\n",
    "    circuit.reset(qreg_q[0]);\n",
    "    circuit.h(qreg_q[0]);\n",
    "    circuit.rz(phase, qreg_q[0]);\n",
    "    circuit.cx(qreg_q[0], qreg_q[1]);\n",
    "    circuit.h(qreg_q[0]);\n",
    "    circuit.h(qreg_q[1]);\n",
    "    circuit.measure(qreg_q[0], creg_c[0]);\n",
    "    circuit.measure(qreg_q[1], creg_c[1]);\n",
    "    if i==0: # We draw the circuit once\n",
    "        circuit_1 = qiskit.visualization.circuit_drawer(circuit);\n",
    "    execution = qiskit.execute(circuit, backend, shots=8);\n",
    "    data = dict(execution.result().get_counts());\n",
    "    data.update({'phi': phase});\n",
    "    measurements.append(data);"
   ]
  },
  {
   "cell_type": "code",
   "execution_count": 38,
   "metadata": {
    "pycharm": {
     "name": "#%%\n"
    }
   },
   "outputs": [
    {
     "name": "stdout",
     "output_type": "stream",
     "text": [
      "This is a circuit with one of the multiple phases we are implementing:\n",
      "\n",
      "          ┌───┐┌────────────┐     ┌───┐┌─┐   \n",
      "q_0: ─|0>─┤ H ├┤ RZ(2.5447) ├──■──┤ H ├┤M├───\n",
      "          └───┘└────────────┘┌─┴─┐├───┤└╥┘┌─┐\n",
      "q_1: ────────────────────────┤ X ├┤ H ├─╫─┤M├\n",
      "                             └───┘└───┘ ║ └╥┘\n",
      "c: 2/═══════════════════════════════════╩══╩═\n",
      "                                        0  1 \n"
     ]
    }
   ],
   "source": [
    "print('This is a circuit with one of the multiple phases we are implementing:\\n')\n",
    "print(circuit_1)"
   ]
  },
  {
   "cell_type": "code",
   "execution_count": 39,
   "metadata": {
    "pycharm": {
     "name": "#%%\n"
    }
   },
   "outputs": [
    {
     "data": {
      "text/plain": [
       "[{'00': 2, '01': 4, '10': 2, 'phi': 2.5446900494077322},\n",
       " {'00': 4, '10': 1, '11': 3, 'phi': 0.43982297150257105}]"
      ]
     },
     "execution_count": 39,
     "metadata": {},
     "output_type": "execute_result"
    }
   ],
   "source": [
    "measurements"
   ]
  },
  {
   "cell_type": "code",
   "execution_count": 8,
   "metadata": {},
   "outputs": [
    {
     "data": {
      "image/png": "[encoded data removed]",
      "text/plain": [
       "<Figure size 432x288 with 1 Axes>"
      ]
     },
     "metadata": {
      "needs_background": "light"
     },
     "output_type": "display_data"
    }
   ],
   "source": [
    "measurements = pickle.load(open ('measurement_circ_3_inder.pk','rb'))\n",
    "meas_00 = np.array([])\n",
    "meas_01 = np.array([])\n",
    "meas_10 = np.array([])\n",
    "meas_11 = np.array([])\n",
    "phi = np.array([])\n",
    "for measurement in measurements:\n",
    "    if '00' not in measurement.keys():\n",
    "        meas_00 = np.append(meas_00, 0)\n",
    "    else:\n",
    "        meas_00 = np.append(meas_00, measurement['00'])\n",
    "    if '01' not in measurement.keys():\n",
    "        meas_01= np.append(meas_01, 0)\n",
    "    else:\n",
    "        meas_01= np.append(meas_01, measurement['01'])\n",
    "    if '10' not in measurement.keys():\n",
    "        meas_10= np.append(meas_10, 0)\n",
    "    else:\n",
    "        meas_10= np.append(meas_10, measurement['10'])\n",
    "    if '11' not in measurement.keys():\n",
    "        meas_11= np.append(meas_11, 0)\n",
    "    else:\n",
    "        meas_11= np.append(meas_11, measurement['11'])\n",
    "    phi = np.append(phi, measurement['phi'])\n",
    "    \n",
    "ax = plt.subplot(111)\n",
    "ax.bar(phi-0.02, meas_00/20.0, width=0.01, color='b', align='center', label='00')\n",
    "ax.bar(phi+0.02, meas_11/20.0, width=0.01, color='r', align='center', label='11')\n",
    "ax.bar(phi-0.01, meas_01/20.0, width=0.01, color='g', align='center', label='01')\n",
    "ax.bar(phi+0.01, meas_10/20.0, width=0.01, color='y', align='center', label='10')\n",
    "ax.legend()\n",
    "ax.set_xlabel('phi')\n",
    "plt.show();"
   ]
  },
  {
   "cell_type": "code",
   "execution_count": 41,
   "metadata": {
    "pycharm": {
     "name": "#%%\n"
    }
   },
   "outputs": [
    {
     "name": "stdout",
     "output_type": "stream",
     "text": [
      "THE END\n"
     ]
    }
   ],
   "source": [
    "print('THE END')"
   ]
  }
 ],
 "metadata": {
  "kernelspec": {
   "display_name": "Python 3",
   "language": "python",
   "name": "python3"
  },
  "language_info": {
   "codemirror_mode": {
    "name": "ipython",
    "version": 3
   },
   "file_extension": ".py",
   "mimetype": "text/x-python",
   "name": "python",
   "nbconvert_exporter": "python",
   "pygments_lexer": "ipython3",
   "version": "3.6.9"
  },
  "pycharm": {
   "stem_cell": {
    "cell_type": "raw",
    "metadata": {
     "collapsed": false
    },
    "source": []
   }
  }
 },
 "nbformat": 4,
 "nbformat_minor": 4
}
